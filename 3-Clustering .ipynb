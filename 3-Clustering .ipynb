{
 "cells": [
  {
   "cell_type": "markdown",
   "metadata": {},
   "source": [
    "# Clustering \n",
    "\n",
    "Unsupervised Learning is said to embody the essence of Artificial Intelligence. That’s because there’s not much human supervision or intervention. As a result, the algorithms are left on their own to discover things from data. This is especially the case in Clustering wherein the goal is to reveal organic aggregates or “clusters” in data."
   ]
  },
  {
   "cell_type": "markdown",
   "metadata": {},
   "source": [
    "## Goals & Uses of Clustering \n",
    "\n",
    "\n",
    "This is a form of Unsupervised Learning where there are no labels or in many cases there are no truly correct answers. That’s because there were no correct answers in the first place. We just have a dataset and our goal is to see the groupings that have organically formed. \n",
    "\n",
    "We’re not trying to predict an outcome here. The goal is to look for structures in the data.  In other words, we’re “dividing” the dataset into groups wherein members have some similarities or proximities. For example, each ecommerce customer might belong to a particular group (e.g. given their income and spending level). If we have gathered enough data points, it’s likely there are aggregates. \n",
    "\n",
    "At first the data points will seem scattered (no pattern at all). But once we apply a Clustering algorithm, the data will somehow make sense because we’ll be able to easily visualize the groups or clusters. Aside from discovering the natural groupings, Clustering algorithms may also reveal outliers for Anomaly Detection (we’ll also discuss this later). \n",
    "\n",
    "Clustering is being applied regularly in the fields of marketing, biology, earthquake studies, manufacturing, sensor outputs, product categorization, and other scientific and business areas. However, there are no rules set in stone when it comes to determining the number of clusters and which data point should belong to a certain cluster. It’s up to our objective (or if the results are useful enough). This is also where our expertise in a particular domain comes in. "
   ]
  },
  {
   "cell_type": "markdown",
   "metadata": {},
   "source": [
    "## K-Means Clustering \n",
    "\n",
    "One way to make sense of data through Clustering is by K-Means. It’s one of the most popular Clustering algorithms because of its simplicity. It works by partitioning objects into k clusters (number of clusters we specified) based on feature similarity. \n",
    "\n",
    "Notice that the number of clusters is arbitrary. We can set it into any number we like. However, it’s good to make the number of clusters just enough to make our work meaningful and useful. Let’s discuss an example to illustrate this. "
   ]
  },
  {
   "cell_type": "code",
   "execution_count": 1,
   "metadata": {},
   "outputs": [
    {
     "data": {
      "text/html": [
       "<div>\n",
       "<style scoped>\n",
       "    .dataframe tbody tr th:only-of-type {\n",
       "        vertical-align: middle;\n",
       "    }\n",
       "\n",
       "    .dataframe tbody tr th {\n",
       "        vertical-align: top;\n",
       "    }\n",
       "\n",
       "    .dataframe thead th {\n",
       "        text-align: right;\n",
       "    }\n",
       "</style>\n",
       "<table border=\"1\" class=\"dataframe\">\n",
       "  <thead>\n",
       "    <tr style=\"text-align: right;\">\n",
       "      <th></th>\n",
       "      <th>CustomerID</th>\n",
       "      <th>Gender</th>\n",
       "      <th>Age</th>\n",
       "      <th>Annual Income (k$)</th>\n",
       "      <th>Spending Score (1-100)</th>\n",
       "    </tr>\n",
       "  </thead>\n",
       "  <tbody>\n",
       "    <tr>\n",
       "      <th>0</th>\n",
       "      <td>1</td>\n",
       "      <td>Male</td>\n",
       "      <td>19</td>\n",
       "      <td>15</td>\n",
       "      <td>39</td>\n",
       "    </tr>\n",
       "    <tr>\n",
       "      <th>1</th>\n",
       "      <td>2</td>\n",
       "      <td>Male</td>\n",
       "      <td>21</td>\n",
       "      <td>15</td>\n",
       "      <td>81</td>\n",
       "    </tr>\n",
       "    <tr>\n",
       "      <th>2</th>\n",
       "      <td>3</td>\n",
       "      <td>Female</td>\n",
       "      <td>20</td>\n",
       "      <td>16</td>\n",
       "      <td>6</td>\n",
       "    </tr>\n",
       "    <tr>\n",
       "      <th>3</th>\n",
       "      <td>4</td>\n",
       "      <td>Female</td>\n",
       "      <td>23</td>\n",
       "      <td>16</td>\n",
       "      <td>77</td>\n",
       "    </tr>\n",
       "    <tr>\n",
       "      <th>4</th>\n",
       "      <td>5</td>\n",
       "      <td>Female</td>\n",
       "      <td>31</td>\n",
       "      <td>17</td>\n",
       "      <td>40</td>\n",
       "    </tr>\n",
       "    <tr>\n",
       "      <th>5</th>\n",
       "      <td>6</td>\n",
       "      <td>Female</td>\n",
       "      <td>22</td>\n",
       "      <td>17</td>\n",
       "      <td>76</td>\n",
       "    </tr>\n",
       "    <tr>\n",
       "      <th>6</th>\n",
       "      <td>7</td>\n",
       "      <td>Female</td>\n",
       "      <td>35</td>\n",
       "      <td>18</td>\n",
       "      <td>6</td>\n",
       "    </tr>\n",
       "    <tr>\n",
       "      <th>7</th>\n",
       "      <td>8</td>\n",
       "      <td>Female</td>\n",
       "      <td>23</td>\n",
       "      <td>18</td>\n",
       "      <td>94</td>\n",
       "    </tr>\n",
       "    <tr>\n",
       "      <th>8</th>\n",
       "      <td>9</td>\n",
       "      <td>Male</td>\n",
       "      <td>64</td>\n",
       "      <td>19</td>\n",
       "      <td>3</td>\n",
       "    </tr>\n",
       "    <tr>\n",
       "      <th>9</th>\n",
       "      <td>10</td>\n",
       "      <td>Female</td>\n",
       "      <td>30</td>\n",
       "      <td>19</td>\n",
       "      <td>72</td>\n",
       "    </tr>\n",
       "  </tbody>\n",
       "</table>\n",
       "</div>"
      ],
      "text/plain": [
       "   CustomerID  Gender  Age  Annual Income (k$)  Spending Score (1-100)\n",
       "0           1    Male   19                  15                      39\n",
       "1           2    Male   21                  15                      81\n",
       "2           3  Female   20                  16                       6\n",
       "3           4  Female   23                  16                      77\n",
       "4           5  Female   31                  17                      40\n",
       "5           6  Female   22                  17                      76\n",
       "6           7  Female   35                  18                       6\n",
       "7           8  Female   23                  18                      94\n",
       "8           9    Male   64                  19                       3\n",
       "9          10  Female   30                  19                      72"
      ]
     },
     "execution_count": 1,
     "metadata": {},
     "output_type": "execute_result"
    }
   ],
   "source": [
    "import numpy as np\n",
    "import matplotlib.pyplot as plt\n",
    "import pandas as pd\n",
    "%matplotlib inline \n",
    "dataset = pd.read_csv('Mall_Customers.csv') \n",
    "dataset.head(10) "
   ]
  },
  {
   "cell_type": "markdown",
   "metadata": {},
   "source": [
    "In this example we’re more interested in grouping the Customers according to their Annual Income and Spending Score. "
   ]
  },
  {
   "cell_type": "code",
   "execution_count": 2,
   "metadata": {},
   "outputs": [],
   "source": [
    "X = dataset.iloc[:, [3, 4]].values "
   ]
  },
  {
   "cell_type": "markdown",
   "metadata": {},
   "source": [
    "Our goal here is to reveal the clusters and help the marketing department formulate their strategies. For instance, we might subdivide the Customers in 5 distinct groups: \n",
    "\n",
    "1.Medium Annual Income, Medium Spending Score;\n",
    "2.High Annual Income, Low Spending Score; \n",
    "3.Low Annual Income, Low Spending Score; \n",
    "4.Low Annual Income, High Spending Score; \n",
    "5.High Annual Income, High Spending Score; \n",
    "\n",
    "It’s worthwhile to pay attention to the #2 Group (High Annual Income, Low Spending Score). If there’s a sizable number of customers that fall under this group, it could mean a huge opportunity for the mall. These customers have high Annual Income and yet they’re spending or using most of their money elsewhere (not in the Mall). If we could know that they’re in sufficient numbers, the marketing department could formulate specific strategies to entice Cluster #2 to buy more from the Mall. \n",
    "\n",
    "Although the number of clusters is often arbitrary, there are ways to find that optimal number. One such way is through the Elbow Method and WCSS (within-cluster sums of squares). Here’s the code to accomplish this: "
   ]
  },
  {
   "cell_type": "code",
   "execution_count": 3,
   "metadata": {},
   "outputs": [
    {
     "data": {
      "image/png": "[encoded data removed]",
      "text/plain": [
       "<Figure size 432x288 with 1 Axes>"
      ]
     },
     "metadata": {},
     "output_type": "display_data"
    }
   ],
   "source": [
    "from sklearn.cluster import KMeans\n",
    "wcss = []\n",
    "for i in range(1, 11):\n",
    "    kmeans = KMeans(n_clusters = i, init = 'k-means++', random_state = 42)\n",
    "    kmeans.fit(X)\n",
    "    wcss.append(kmeans.inertia_)\n",
    "plt.plot(range(1, 11), wcss)\n",
    "plt.title('The Elbow Method')\n",
    "plt.xlabel('Number of clusters')\n",
    "plt.ylabel('WCSS')\n",
    "plt.show() "
   ]
  },
  {
   "cell_type": "markdown",
   "metadata": {},
   "source": [
    "Notice that the “elbow” points at 5 (number of clusters). Coincidentally, this number was also the “desired” number of groups that will subdivide the dataset according to their Annual Income and Spending Score. \n",
    "\n",
    "After determining the optimal number of clusters, we can then proceed with applying K-Means to the dataset and then performing data visualization: "
   ]
  },
  {
   "cell_type": "code",
   "execution_count": 6,
   "metadata": {},
   "outputs": [
    {
     "data": {
      "image/png": "[encoded data removed]",
      "text/plain": [
       "<Figure size 1152x576 with 1 Axes>"
      ]
     },
     "metadata": {},
     "output_type": "display_data"
    }
   ],
   "source": [
    "kmeans = KMeans(n_clusters = 5, init = 'k-means++', random_state = 42)\n",
    "y_kmeans = kmeans.fit_predict(X) \n",
    "plt.figure(figsize=(16,8))\n",
    "plt.scatter(X[y_kmeans == 0, 0], X[y_kmeans == 0, 1], s = 100, c = 'red', label = 'Cluster 1')\n",
    "plt.scatter(X[y_kmeans == 1, 0], X[y_kmeans == 1, 1], s = 100, c = 'blue', label = 'Cluster 2')\n",
    "plt.scatter(X[y_kmeans == 2, 0], X[y_kmeans == 2, 1], s = 100, c = 'green', label = 'Cluster 3')\n",
    "plt.scatter(X[y_kmeans == 3, 0], X[y_kmeans == 3, 1], s = 100, c = 'cyan', label = 'Cluster 4')\n",
    "plt.scatter(X[y_kmeans == 4, 0], X[y_kmeans == 4, 1], s = 100, c = 'magenta', label = 'Cluster 5')\n",
    "plt.scatter(kmeans.cluster_centers_[:, 0], kmeans.cluster_centers_[:, 1], s = 300, c = 'yellow', label = 'Centroids')\n",
    "plt.title('Clusters of customers')\n",
    "plt.xlabel('Annual Income (k$)')\n",
    "plt.ylabel('Spending Score (1-100)')\n",
    "plt.legend()\n",
    "plt.show() "
   ]
  },
  {
   "cell_type": "markdown",
   "metadata": {},
   "source": [
    "There we have it. We have 5 clusters and Cluster #2 (blue points, High Annual Income and Low Spending Score) is significant enough. It might be worthwhile for the marketing department to focus on that group. \n",
    "\n",
    "Also notice the Centroids (the yellow points). This is a part of how K-Means clustering works. It’s an iterative approach where random points are placed initially until they converge to a minimum (e.g. sum of distances is minimized). As mentioned earlier, it can all be arbitrary and it may depend heavily on our judgment and possible application. We can set n_clusters into anything other than 5. We only used the Elbow Method so we can have a more sound and consistent basis for the number of clusters. But it’s still up to our judgment what should we use and if the results are good enough for our application."
   ]
  },
  {
   "cell_type": "markdown",
   "metadata": {},
   "source": [
    "## Anomaly Detection \n",
    "\n",
    "\n",
    "Aside from revealing the natural clusters, it’s also a common case to see if there are obvious points that don’t belong to those clusters. This is the heart of detecting anomalies or outliers in data. \n",
    "\n",
    "This is a crucial task because any large deviation from the normal can cause a catastrophe. Is a credit card transaction fraudulent? Is a login activity suspicious (you might be logging in from a totally different location or device)? Are the temperature and pressure levels in a tank being maintained consistently (any outlier might cause explosions and operational halt)? Is a certain data point caused by wrong entry or measurement (e.g. perhaps inches were used instead of centimeters)? \n",
    "\n",
    "With straightforward data visualization we can immediately see the outliers. We can then evaluate if these outliers present a major threat. We can also see and assess those outliers by referring to the mean and standard deviation. If a data point deviates by a standard deviation from the mean, it could be an anomaly. \n",
    "\n",
    "\n",
    "This is also where our domain expertise comes in. If there’s an anomaly, how serious are the consequences? For instance, there might be thousands of purchase transactions happening in an online store every day. If we’re too tight with our anomaly detection, many of those transactions will be rejected (which results to loss of sales and profits). On the other hand, if we’re allowing much freedom in our anomaly detection our system would approve more transactions. However, this might lead to complaints later and possibly loss of customers in the long term. \n",
    "\n",
    "Notice here that it’s not all about algorithms especially when we’re dealing with business cases. Each field might require a different sensitivity level. There’s always a tradeoff and either of the options could be costly. It’s a matter of testing and knowing if our system of detecting anomalies is sufficient for our application. "
   ]
  },
  {
   "cell_type": "markdown",
   "metadata": {},
   "source": [
    "## Association Rule Learning \n",
    "\n",
    "This is a continuation of Unsupervised Learning. In the previous chapter we’ve discovered natural patterns and aggregates in Mall_Customers.csv. There was not much supervision and guidance on how the “correct answers” should look like. We’ve allowed the algorithms to discover and study the data. As a result, we’re able to gain insights from the data that we can use. \n",
    "\n",
    "The goal of Association Rule Learning here is discover how items are “related” or associated with one another. This can be very useful in determining which products should be placed together in grocery stores. For instance, many customers might always be buying bread and milk together. We can then rearrange some shelves and products so the bread and milk will be near to each other. \n",
    "\n",
    "This can also be a good way to recommend related products to customers. For example, many customers might be buying diapers online and then purchasing books about parenting later. These two products have strong associations because they mark the customer’s life transition (having a baby). Also if we notice a demand surge in diapers, we might also get ready with parenting books. This is a good way to somehow forecast and prepare for future demands by buying supplies in advance. \n",
    "\n",
    "In grocery shopping or any business involved in retail and wholesale transactions, Association Rule Learning can be very useful in optimization (encouraging customers to buy more products) and matching supply with demand (e.g. sales improvement in one product also signals the same thing to another related product). "
   ]
  },
  {
   "cell_type": "markdown",
   "metadata": {},
   "source": [
    "### Explanation \n",
    "\n",
    "So how do we determine the “level of relatedness” of items to one another and create useful groups out of it.? One straightforward approach is by counting the transactions that involve a particular set. For example, we have the following transactions: 1.Egg, ham, hotdog;2.Egg, ham, milk; 3.Egg, apple, onion; 4.Beer, milk, juice.\n",
    "\n",
    "Our target set is {Egg, ham}. Notice that this combination of purchases occurred in 2 transactions (Transactions 1 and 2). In other words, this combination happened 50% of the time. It’s a simple example but if we’re studying 10,000 transactions and 50% is still the case, of course there’s a strong association between egg and ham. \n",
    "\n",
    "We might then realize that it’s worthwhile to put eggs and hams together (or offer them in a bundle) to make our customers’ lives easier (while we also make more sales). The higher the percentage of our target set in the total transactions, the better.  Or, if the percentage still falls under our arbitrary threshold (e.g. 30%, 20%), we could still pay attention to a particular set and make adjustments to our products and offers. \n",
    "\n",
    "Aside from calculating the actual percentage, another way to know how “popular” an itemset is by working on probabilities. For example, how likely is product X to appear with product Y? If there’s a high probability, we can somehow say that the two products are closely related. \n",
    "\n",
    "Those are ways of estimating the “relatedness” or level of association between two products. One or a combination of approaches might be already enough for certain applications. Perhaps working on probabilities yields better results. Or, prioritising a very popular itemset (high percentage of occurrence) results to more transactions. \n",
    "\n",
    "In the end, it might be about testing different approaches (and combinations of products) and then seeing which one yields the optimal results. It might be even the case that a combination of two products with very low relatedness allow for more purchases to happen. "
   ]
  },
  {
   "cell_type": "markdown",
   "metadata": {},
   "source": [
    "### Apriori \n",
    "\n",
    "Whichever is the case, let’s explore how it all applies to the real world. Let’s call the problem “Market Basket Optimization.” Our goal here is to generate a list of sets (product sets) and their corresponding level of relatedness or support to one another. "
   ]
  },
  {
   "cell_type": "code",
   "execution_count": 8,
   "metadata": {},
   "outputs": [
    {
     "data": {
      "text/html": [
       "<div>\n",
       "<style scoped>\n",
       "    .dataframe tbody tr th:only-of-type {\n",
       "        vertical-align: middle;\n",
       "    }\n",
       "\n",
       "    .dataframe tbody tr th {\n",
       "        vertical-align: top;\n",
       "    }\n",
       "\n",
       "    .dataframe thead th {\n",
       "        text-align: right;\n",
       "    }\n",
       "</style>\n",
       "<table border=\"1\" class=\"dataframe\">\n",
       "  <thead>\n",
       "    <tr style=\"text-align: right;\">\n",
       "      <th></th>\n",
       "      <th>0</th>\n",
       "      <th>1</th>\n",
       "      <th>2</th>\n",
       "      <th>3</th>\n",
       "      <th>4</th>\n",
       "      <th>5</th>\n",
       "      <th>6</th>\n",
       "      <th>7</th>\n",
       "      <th>8</th>\n",
       "      <th>9</th>\n",
       "      <th>10</th>\n",
       "      <th>11</th>\n",
       "      <th>12</th>\n",
       "      <th>13</th>\n",
       "      <th>14</th>\n",
       "      <th>15</th>\n",
       "      <th>16</th>\n",
       "      <th>17</th>\n",
       "      <th>18</th>\n",
       "      <th>19</th>\n",
       "    </tr>\n",
       "  </thead>\n",
       "  <tbody>\n",
       "    <tr>\n",
       "      <th>0</th>\n",
       "      <td>shrimp</td>\n",
       "      <td>almonds</td>\n",
       "      <td>avocado</td>\n",
       "      <td>vegetables mix</td>\n",
       "      <td>green grapes</td>\n",
       "      <td>whole weat flour</td>\n",
       "      <td>yams</td>\n",
       "      <td>cottage cheese</td>\n",
       "      <td>energy drink</td>\n",
       "      <td>tomato juice</td>\n",
       "      <td>low fat yogurt</td>\n",
       "      <td>green tea</td>\n",
       "      <td>honey</td>\n",
       "      <td>salad</td>\n",
       "      <td>mineral water</td>\n",
       "      <td>salmon</td>\n",
       "      <td>antioxydant juice</td>\n",
       "      <td>frozen smoothie</td>\n",
       "      <td>spinach</td>\n",
       "      <td>olive oil</td>\n",
       "    </tr>\n",
       "    <tr>\n",
       "      <th>1</th>\n",
       "      <td>burgers</td>\n",
       "      <td>meatballs</td>\n",
       "      <td>eggs</td>\n",
       "      <td>NaN</td>\n",
       "      <td>NaN</td>\n",
       "      <td>NaN</td>\n",
       "      <td>NaN</td>\n",
       "      <td>NaN</td>\n",
       "      <td>NaN</td>\n",
       "      <td>NaN</td>\n",
       "      <td>NaN</td>\n",
       "      <td>NaN</td>\n",
       "      <td>NaN</td>\n",
       "      <td>NaN</td>\n",
       "      <td>NaN</td>\n",
       "      <td>NaN</td>\n",
       "      <td>NaN</td>\n",
       "      <td>NaN</td>\n",
       "      <td>NaN</td>\n",
       "      <td>NaN</td>\n",
       "    </tr>\n",
       "    <tr>\n",
       "      <th>2</th>\n",
       "      <td>chutney</td>\n",
       "      <td>NaN</td>\n",
       "      <td>NaN</td>\n",
       "      <td>NaN</td>\n",
       "      <td>NaN</td>\n",
       "      <td>NaN</td>\n",
       "      <td>NaN</td>\n",
       "      <td>NaN</td>\n",
       "      <td>NaN</td>\n",
       "      <td>NaN</td>\n",
       "      <td>NaN</td>\n",
       "      <td>NaN</td>\n",
       "      <td>NaN</td>\n",
       "      <td>NaN</td>\n",
       "      <td>NaN</td>\n",
       "      <td>NaN</td>\n",
       "      <td>NaN</td>\n",
       "      <td>NaN</td>\n",
       "      <td>NaN</td>\n",
       "      <td>NaN</td>\n",
       "    </tr>\n",
       "    <tr>\n",
       "      <th>3</th>\n",
       "      <td>turkey</td>\n",
       "      <td>avocado</td>\n",
       "      <td>NaN</td>\n",
       "      <td>NaN</td>\n",
       "      <td>NaN</td>\n",
       "      <td>NaN</td>\n",
       "      <td>NaN</td>\n",
       "      <td>NaN</td>\n",
       "      <td>NaN</td>\n",
       "      <td>NaN</td>\n",
       "      <td>NaN</td>\n",
       "      <td>NaN</td>\n",
       "      <td>NaN</td>\n",
       "      <td>NaN</td>\n",
       "      <td>NaN</td>\n",
       "      <td>NaN</td>\n",
       "      <td>NaN</td>\n",
       "      <td>NaN</td>\n",
       "      <td>NaN</td>\n",
       "      <td>NaN</td>\n",
       "    </tr>\n",
       "    <tr>\n",
       "      <th>4</th>\n",
       "      <td>mineral water</td>\n",
       "      <td>milk</td>\n",
       "      <td>energy bar</td>\n",
       "      <td>whole wheat rice</td>\n",
       "      <td>green tea</td>\n",
       "      <td>NaN</td>\n",
       "      <td>NaN</td>\n",
       "      <td>NaN</td>\n",
       "      <td>NaN</td>\n",
       "      <td>NaN</td>\n",
       "      <td>NaN</td>\n",
       "      <td>NaN</td>\n",
       "      <td>NaN</td>\n",
       "      <td>NaN</td>\n",
       "      <td>NaN</td>\n",
       "      <td>NaN</td>\n",
       "      <td>NaN</td>\n",
       "      <td>NaN</td>\n",
       "      <td>NaN</td>\n",
       "      <td>NaN</td>\n",
       "    </tr>\n",
       "  </tbody>\n",
       "</table>\n",
       "</div>"
      ],
      "text/plain": [
       "              0          1           2                 3             4   \\\n",
       "0         shrimp    almonds     avocado    vegetables mix  green grapes   \n",
       "1        burgers  meatballs        eggs               NaN           NaN   \n",
       "2        chutney        NaN         NaN               NaN           NaN   \n",
       "3         turkey    avocado         NaN               NaN           NaN   \n",
       "4  mineral water       milk  energy bar  whole wheat rice     green tea   \n",
       "\n",
       "                 5     6               7             8             9   \\\n",
       "0  whole weat flour  yams  cottage cheese  energy drink  tomato juice   \n",
       "1               NaN   NaN             NaN           NaN           NaN   \n",
       "2               NaN   NaN             NaN           NaN           NaN   \n",
       "3               NaN   NaN             NaN           NaN           NaN   \n",
       "4               NaN   NaN             NaN           NaN           NaN   \n",
       "\n",
       "               10         11     12     13             14      15  \\\n",
       "0  low fat yogurt  green tea  honey  salad  mineral water  salmon   \n",
       "1             NaN        NaN    NaN    NaN            NaN     NaN   \n",
       "2             NaN        NaN    NaN    NaN            NaN     NaN   \n",
       "3             NaN        NaN    NaN    NaN            NaN     NaN   \n",
       "4             NaN        NaN    NaN    NaN            NaN     NaN   \n",
       "\n",
       "                  16               17       18         19  \n",
       "0  antioxydant juice  frozen smoothie  spinach  olive oil  \n",
       "1                NaN              NaN      NaN        NaN  \n",
       "2                NaN              NaN      NaN        NaN  \n",
       "3                NaN              NaN      NaN        NaN  \n",
       "4                NaN              NaN      NaN        NaN  "
      ]
     },
     "execution_count": 8,
     "metadata": {},
     "output_type": "execute_result"
    }
   ],
   "source": [
    "import pandas as pd\n",
    "dataset = pd.read_csv('Market_Basket_Optimisation.csv', header = None) \n",
    "dataset.head()"
   ]
  },
  {
   "cell_type": "markdown",
   "metadata": {},
   "source": [
    "Next is we add the items in a list so that we can work on them much easier. We can accomplish this by initializing an empty list and then running a for loop (still remember how to do all these?): "
   ]
  },
  {
   "cell_type": "code",
   "execution_count": 12,
   "metadata": {},
   "outputs": [
    {
     "name": "stdout",
     "output_type": "stream",
     "text": [
      "[['shrimp', 'almonds', 'avocado', 'vegetables mix', 'green grapes', 'whole weat flour', 'yams', 'cottage cheese', 'energy drink', 'tomato juice', 'low fat yogurt', 'green tea', 'honey', 'salad', 'mineral water', 'salmon', 'antioxydant juice', 'frozen smoothie', 'spinach', 'olive oil'], ['burgers', 'meatballs', 'eggs', 'nan', 'nan', 'nan', 'nan', 'nan', 'nan', 'nan', 'nan', 'nan', 'nan', 'nan', 'nan', 'nan', 'nan', 'nan', 'nan', 'nan'], ['chutney', 'nan', 'nan', 'nan', 'nan', 'nan', 'nan', 'nan', 'nan', 'nan', 'nan', 'nan', 'nan', 'nan', 'nan', 'nan', 'nan', 'nan', 'nan', 'nan'], ['turkey', 'avocado', 'nan', 'nan', 'nan', 'nan', 'nan', 'nan', 'nan', 'nan', 'nan', 'nan', 'nan', 'nan', 'nan', 'nan', 'nan', 'nan', 'nan', 'nan'], ['mineral water', 'milk', 'energy bar', 'whole wheat rice', 'green tea', 'nan', 'nan', 'nan', 'nan', 'nan', 'nan', 'nan', 'nan', 'nan', 'nan', 'nan', 'nan', 'nan', 'nan', 'nan'], ['low fat yogurt', 'nan', 'nan', 'nan', 'nan', 'nan', 'nan', 'nan', 'nan', 'nan', 'nan', 'nan', 'nan', 'nan', 'nan', 'nan', 'nan', 'nan', 'nan', 'nan'], ['whole wheat pasta', 'french fries', 'nan', 'nan', 'nan', 'nan', 'nan', 'nan', 'nan', 'nan', 'nan', 'nan', 'nan', 'nan', 'nan', 'nan', 'nan', 'nan', 'nan', 'nan'], ['soup', 'light cream', 'shallot', 'nan', 'nan', 'nan', 'nan', 'nan', 'nan', 'nan', 'nan', 'nan', 'nan', 'nan', 'nan', 'nan', 'nan', 'nan', 'nan', 'nan'], ['frozen vegetables', 'spaghetti', 'green tea', 'nan', 'nan', 'nan', 'nan', 'nan', 'nan', 'nan', 'nan', 'nan', 'nan', 'nan', 'nan', 'nan', 'nan', 'nan', 'nan', 'nan'], ['french fries', 'nan', 'nan', 'nan', 'nan', 'nan', 'nan', 'nan', 'nan', 'nan', 'nan', 'nan', 'nan', 'nan', 'nan', 'nan', 'nan', 'nan', 'nan', 'nan']]\n"
     ]
    }
   ],
   "source": [
    "transactions = []\n",
    "for i in range(0, 7501):\n",
    "    transactions.append([str(dataset.values[i,j]) for j in range(0, 20)]) \n",
    "print(transactions[0:10])"
   ]
  },
  {
   "cell_type": "markdown",
   "metadata": {},
   "source": [
    "After we’ve done that, we should then generate a list of “related products” with their corresponding level of support or relatedness. One way to accomplish this is by the implementation of the Apriori algorithm (for association rule learning). We can use Apyori which is a simple implementation of the Apriori algorithm. You can find it here for your reference: \n",
    "https://pypi.org/project/apyori/#description \n",
    "\n",
    "To implement Apyori, we can import it similarly as how we import other libraries: "
   ]
  },
  {
   "cell_type": "code",
   "execution_count": 14,
   "metadata": {},
   "outputs": [],
   "source": [
    "from apyori import apriori "
   ]
  },
  {
   "cell_type": "markdown",
   "metadata": {},
   "source": [
    "Next is we set up the rules (the levels of minimum relatedness) so we can somehow generate a useful list of related items. That’s because almost any two items might have some level of relatedness. The objective here is to include only the list that could be useful for us. "
   ]
  },
  {
   "cell_type": "code",
   "execution_count": 15,
   "metadata": {},
   "outputs": [],
   "source": [
    "rules = apriori(transactions, min_support = 0.003, min_confidence = 0.2, min_lift = 3, min_length = 2)"
   ]
  },
  {
   "cell_type": "markdown",
   "metadata": {},
   "source": [
    "Well that’s the implementation of Apriori using Apyori. The next step is to generate and view the results. We can accomplish this using the following block of code: "
   ]
  },
  {
   "cell_type": "code",
   "execution_count": 16,
   "metadata": {},
   "outputs": [
    {
     "name": "stdout",
     "output_type": "stream",
     "text": [
      "[\"RULE:\\tfrozenset({'chicken', 'light cream'})\\nSUPPORT:\\t0.004532728969470737\", \"RULE:\\tfrozenset({'mushroom cream sauce', 'escalope'})\\nSUPPORT:\\t0.005732568990801226\", \"RULE:\\tfrozenset({'escalope', 'pasta'})\\nSUPPORT:\\t0.005865884548726837\", \"RULE:\\tfrozenset({'fromage blanc', 'honey'})\\nSUPPORT:\\t0.003332888948140248\", \"RULE:\\tfrozenset({'herb & pepper', 'ground beef'})\\nSUPPORT:\\t0.015997866951073192\", \"RULE:\\tfrozenset({'tomato sauce', 'ground beef'})\\nSUPPORT:\\t0.005332622317024397\", \"RULE:\\tfrozenset({'olive oil', 'light cream'})\\nSUPPORT:\\t0.003199573390214638\", \"RULE:\\tfrozenset({'olive oil', 'whole wheat pasta'})\\nSUPPORT:\\t0.007998933475536596\", \"RULE:\\tfrozenset({'shrimp', 'pasta'})\\nSUPPORT:\\t0.005065991201173177\", \"RULE:\\tfrozenset({'milk', 'spaghetti', 'avocado'})\\nSUPPORT:\\t0.003332888948140248\", \"RULE:\\tfrozenset({'burgers', 'cake', 'milk'})\\nSUPPORT:\\t0.0037328356219170776\", \"RULE:\\tfrozenset({'turkey', 'burgers', 'chocolate'})\\nSUPPORT:\\t0.0030662578322890282\", \"RULE:\\tfrozenset({'turkey', 'burgers', 'milk'})\\nSUPPORT:\\t0.003199573390214638\", \"RULE:\\tfrozenset({'tomatoes', 'frozen vegetables', 'cake'})\\nSUPPORT:\\t0.0030662578322890282\", \"RULE:\\tfrozenset({'spaghetti', 'cereals', 'ground beef'})\\nSUPPORT:\\t0.0030662578322890282\", \"RULE:\\tfrozenset({'chicken', 'milk', 'ground beef'})\\nSUPPORT:\\t0.0038661511798426876\", \"RULE:\\tfrozenset({'nan', 'chicken', 'light cream'})\\nSUPPORT:\\t0.004532728969470737\", \"RULE:\\tfrozenset({'olive oil', 'chicken', 'milk'})\\nSUPPORT:\\t0.0035995200639914677\", \"RULE:\\tfrozenset({'olive oil', 'chicken', 'spaghetti'})\\nSUPPORT:\\t0.0034662045060658577\", \"RULE:\\tfrozenset({'chocolate', 'frozen vegetables', 'shrimp'})\\nSUPPORT:\\t0.005332622317024397\", \"RULE:\\tfrozenset({'chocolate', 'herb & pepper', 'ground beef'})\\nSUPPORT:\\t0.003999466737768298\", \"RULE:\\tfrozenset({'chocolate', 'soup', 'milk'})\\nSUPPORT:\\t0.003999466737768298\", \"RULE:\\tfrozenset({'cooking oil', 'spaghetti', 'ground beef'})\\nSUPPORT:\\t0.004799360085321957\", \"RULE:\\tfrozenset({'ground beef', 'herb & pepper', 'eggs'})\\nSUPPORT:\\t0.0041327822956939075\", \"RULE:\\tfrozenset({'red wine', 'spaghetti', 'eggs'})\\nSUPPORT:\\t0.0037328356219170776\", \"RULE:\\tfrozenset({'nan', 'mushroom cream sauce', 'escalope'})\\nSUPPORT:\\t0.005732568990801226\", \"RULE:\\tfrozenset({'nan', 'escalope', 'pasta'})\\nSUPPORT:\\t0.005865884548726837\", \"RULE:\\tfrozenset({'french fries', 'herb & pepper', 'ground beef'})\\nSUPPORT:\\t0.003199573390214638\", \"RULE:\\tfrozenset({'nan', 'fromage blanc', 'honey'})\\nSUPPORT:\\t0.003332888948140248\", \"RULE:\\tfrozenset({'frozen vegetables', 'green tea', 'tomatoes'})\\nSUPPORT:\\t0.003332888948140248\", \"RULE:\\tfrozenset({'frozen vegetables', 'spaghetti', 'ground beef'})\\nSUPPORT:\\t0.008665511265164644\", \"RULE:\\tfrozenset({'olive oil', 'frozen vegetables', 'milk'})\\nSUPPORT:\\t0.004799360085321957\", \"RULE:\\tfrozenset({'frozen vegetables', 'soup', 'milk'})\\nSUPPORT:\\t0.003999466737768298\", \"RULE:\\tfrozenset({'frozen vegetables', 'tomatoes', 'milk'})\\nSUPPORT:\\t0.0041327822956939075\", \"RULE:\\tfrozenset({'shrimp', 'frozen vegetables', 'mineral water'})\\nSUPPORT:\\t0.007199040127982935\", \"RULE:\\tfrozenset({'olive oil', 'frozen vegetables', 'spaghetti'})\\nSUPPORT:\\t0.005732568990801226\", \"RULE:\\tfrozenset({'frozen vegetables', 'spaghetti', 'shrimp'})\\nSUPPORT:\\t0.005999200106652446\", \"RULE:\\tfrozenset({'tomatoes', 'frozen vegetables', 'shrimp'})\\nSUPPORT:\\t0.003999466737768298\", \"RULE:\\tfrozenset({'frozen vegetables', 'spaghetti', 'tomatoes'})\\nSUPPORT:\\t0.006665777896280496\", \"RULE:\\tfrozenset({'grated cheese', 'spaghetti', 'ground beef'})\\nSUPPORT:\\t0.005332622317024397\", \"RULE:\\tfrozenset({'green tea', 'tomatoes', 'ground beef'})\\nSUPPORT:\\t0.0030662578322890282\", \"RULE:\\tfrozenset({'herb & pepper', 'milk', 'ground beef'})\\nSUPPORT:\\t0.0035995200639914677\", \"RULE:\\tfrozenset({'mineral water', 'herb & pepper', 'ground beef'})\\nSUPPORT:\\t0.006665777896280496\", \"RULE:\\tfrozenset({'nan', 'herb & pepper', 'ground beef'})\\nSUPPORT:\\t0.015997866951073192\", \"RULE:\\tfrozenset({'spaghetti', 'herb & pepper', 'ground beef'})\\nSUPPORT:\\t0.006399146780429276\", \"RULE:\\tfrozenset({'olive oil', 'milk', 'ground beef'})\\nSUPPORT:\\t0.004932675643247567\", \"RULE:\\tfrozenset({'soup', 'milk', 'ground beef'})\\nSUPPORT:\\t0.003999466737768298\", \"RULE:\\tfrozenset({'nan', 'tomato sauce', 'ground beef'})\\nSUPPORT:\\t0.005332622317024397\", \"RULE:\\tfrozenset({'pepper', 'spaghetti', 'ground beef'})\\nSUPPORT:\\t0.003332888948140248\", \"RULE:\\tfrozenset({'spaghetti', 'shrimp', 'ground beef'})\\nSUPPORT:\\t0.005999200106652446\", \"RULE:\\tfrozenset({'spaghetti', 'tomato sauce', 'ground beef'})\\nSUPPORT:\\t0.0030662578322890282\", \"RULE:\\tfrozenset({'nan', 'olive oil', 'light cream'})\\nSUPPORT:\\t0.003199573390214638\", \"RULE:\\tfrozenset({'olive oil', 'shrimp', 'milk'})\\nSUPPORT:\\t0.003199573390214638\", \"RULE:\\tfrozenset({'olive oil', 'soup', 'milk'})\\nSUPPORT:\\t0.0035995200639914677\", \"RULE:\\tfrozenset({'olive oil', 'spaghetti', 'milk'})\\nSUPPORT:\\t0.007199040127982935\", \"RULE:\\tfrozenset({'soup', 'tomatoes', 'milk'})\\nSUPPORT:\\t0.0030662578322890282\", \"RULE:\\tfrozenset({'whole wheat pasta', 'spaghetti', 'milk'})\\nSUPPORT:\\t0.003999466737768298\", \"RULE:\\tfrozenset({'olive oil', 'mineral water', 'soup'})\\nSUPPORT:\\t0.005199306759098787\", \"RULE:\\tfrozenset({'olive oil', 'mineral water', 'whole wheat pasta'})\\nSUPPORT:\\t0.0038661511798426876\", \"RULE:\\tfrozenset({'nan', 'olive oil', 'whole wheat pasta'})\\nSUPPORT:\\t0.007998933475536596\", \"RULE:\\tfrozenset({'nan', 'shrimp', 'pasta'})\\nSUPPORT:\\t0.005065991201173177\", \"RULE:\\tfrozenset({'olive oil', 'spaghetti', 'pancakes'})\\nSUPPORT:\\t0.005065991201173177\", \"RULE:\\tfrozenset({'olive oil', 'spaghetti', 'tomatoes'})\\nSUPPORT:\\t0.004399413411545127\", \"RULE:\\tfrozenset({'spaghetti', 'tomatoes', 'whole wheat rice'})\\nSUPPORT:\\t0.0030662578322890282\", \"RULE:\\tfrozenset({'nan', 'milk', 'spaghetti', 'avocado'})\\nSUPPORT:\\t0.003332888948140248\", \"RULE:\\tfrozenset({'nan', 'burgers', 'cake', 'milk'})\\nSUPPORT:\\t0.0037328356219170776\", \"RULE:\\tfrozenset({'nan', 'burgers', 'chocolate', 'turkey'})\\nSUPPORT:\\t0.0030662578322890282\", \"RULE:\\tfrozenset({'nan', 'burgers', 'milk', 'turkey'})\\nSUPPORT:\\t0.003199573390214638\", \"RULE:\\tfrozenset({'nan', 'tomatoes', 'frozen vegetables', 'cake'})\\nSUPPORT:\\t0.0030662578322890282\", \"RULE:\\tfrozenset({'nan', 'spaghetti', 'cereals', 'ground beef'})\\nSUPPORT:\\t0.0030662578322890282\", \"RULE:\\tfrozenset({'nan', 'chicken', 'milk', 'ground beef'})\\nSUPPORT:\\t0.0038661511798426876\", \"RULE:\\tfrozenset({'nan', 'chicken', 'olive oil', 'milk'})\\nSUPPORT:\\t0.0035995200639914677\", \"RULE:\\tfrozenset({'nan', 'chicken', 'olive oil', 'spaghetti'})\\nSUPPORT:\\t0.0034662045060658577\", \"RULE:\\tfrozenset({'ground beef', 'chocolate', 'mineral water', 'eggs'})\\nSUPPORT:\\t0.003999466737768298\", \"RULE:\\tfrozenset({'chocolate', 'frozen vegetables', 'mineral water', 'ground beef'})\\nSUPPORT:\\t0.003332888948140248\", \"RULE:\\tfrozenset({'chocolate', 'frozen vegetables', 'spaghetti', 'ground beef'})\\nSUPPORT:\\t0.0030662578322890282\", \"RULE:\\tfrozenset({'chocolate', 'frozen vegetables', 'mineral water', 'milk'})\\nSUPPORT:\\t0.003999466737768298\", \"RULE:\\tfrozenset({'chocolate', 'frozen vegetables', 'spaghetti', 'milk'})\\nSUPPORT:\\t0.0034662045060658577\", \"RULE:\\tfrozenset({'shrimp', 'chocolate', 'frozen vegetables', 'mineral water'})\\nSUPPORT:\\t0.003199573390214638\", \"RULE:\\tfrozenset({'nan', 'chocolate', 'frozen vegetables', 'shrimp'})\\nSUPPORT:\\t0.005332622317024397\", \"RULE:\\tfrozenset({'nan', 'chocolate', 'herb & pepper', 'ground beef'})\\nSUPPORT:\\t0.003999466737768298\", \"RULE:\\tfrozenset({'nan', 'chocolate', 'soup', 'milk'})\\nSUPPORT:\\t0.003999466737768298\", \"RULE:\\tfrozenset({'olive oil', 'chocolate', 'spaghetti', 'mineral water'})\\nSUPPORT:\\t0.0038661511798426876\", \"RULE:\\tfrozenset({'shrimp', 'chocolate', 'spaghetti', 'mineral water'})\\nSUPPORT:\\t0.0034662045060658577\", \"RULE:\\tfrozenset({'nan', 'cooking oil', 'spaghetti', 'ground beef'})\\nSUPPORT:\\t0.004799360085321957\", \"RULE:\\tfrozenset({'frozen vegetables', 'mineral water', 'milk', 'eggs'})\\nSUPPORT:\\t0.0037328356219170776\", \"RULE:\\tfrozenset({'nan', 'ground beef', 'herb & pepper', 'eggs'})\\nSUPPORT:\\t0.0041327822956939075\", \"RULE:\\tfrozenset({'nan', 'red wine', 'spaghetti', 'eggs'})\\nSUPPORT:\\t0.0037328356219170776\", \"RULE:\\tfrozenset({'nan', 'french fries', 'herb & pepper', 'ground beef'})\\nSUPPORT:\\t0.003199573390214638\", \"RULE:\\tfrozenset({'mineral water', 'spaghetti', 'milk', 'frozen smoothie'})\\nSUPPORT:\\t0.003199573390214638\", \"RULE:\\tfrozenset({'nan', 'frozen vegetables', 'green tea', 'tomatoes'})\\nSUPPORT:\\t0.003332888948140248\", \"RULE:\\tfrozenset({'frozen vegetables', 'mineral water', 'milk', 'ground beef'})\\nSUPPORT:\\t0.0037328356219170776\", \"RULE:\\tfrozenset({'frozen vegetables', 'spaghetti', 'milk', 'ground beef'})\\nSUPPORT:\\t0.0030662578322890282\", \"RULE:\\tfrozenset({'frozen vegetables', 'spaghetti', 'mineral water', 'ground beef'})\\nSUPPORT:\\t0.004399413411545127\", \"RULE:\\tfrozenset({'nan', 'frozen vegetables', 'spaghetti', 'ground beef'})\\nSUPPORT:\\t0.008665511265164644\", \"RULE:\\tfrozenset({'olive oil', 'frozen vegetables', 'mineral water', 'milk'})\\nSUPPORT:\\t0.003332888948140248\", \"RULE:\\tfrozenset({'frozen vegetables', 'soup', 'mineral water', 'milk'})\\nSUPPORT:\\t0.0030662578322890282\", \"RULE:\\tfrozenset({'frozen vegetables', 'spaghetti', 'mineral water', 'milk'})\\nSUPPORT:\\t0.004532728969470737\", \"RULE:\\tfrozenset({'nan', 'olive oil', 'frozen vegetables', 'milk'})\\nSUPPORT:\\t0.004799360085321957\", \"RULE:\\tfrozenset({'nan', 'frozen vegetables', 'soup', 'milk'})\\nSUPPORT:\\t0.003999466737768298\", \"RULE:\\tfrozenset({'nan', 'frozen vegetables', 'tomatoes', 'milk'})\\nSUPPORT:\\t0.0041327822956939075\", \"RULE:\\tfrozenset({'nan', 'frozen vegetables', 'mineral water', 'shrimp'})\\nSUPPORT:\\t0.007199040127982935\", \"RULE:\\tfrozenset({'shrimp', 'frozen vegetables', 'spaghetti', 'mineral water'})\\nSUPPORT:\\t0.003332888948140248\", \"RULE:\\tfrozenset({'tomatoes', 'frozen vegetables', 'spaghetti', 'mineral water'})\\nSUPPORT:\\t0.0030662578322890282\", \"RULE:\\tfrozenset({'nan', 'olive oil', 'frozen vegetables', 'spaghetti'})\\nSUPPORT:\\t0.005732568990801226\", \"RULE:\\tfrozenset({'nan', 'frozen vegetables', 'spaghetti', 'shrimp'})\\nSUPPORT:\\t0.005999200106652446\", \"RULE:\\tfrozenset({'nan', 'tomatoes', 'frozen vegetables', 'shrimp'})\\nSUPPORT:\\t0.003999466737768298\", \"RULE:\\tfrozenset({'nan', 'frozen vegetables', 'spaghetti', 'tomatoes'})\\nSUPPORT:\\t0.006665777896280496\", \"RULE:\\tfrozenset({'nan', 'grated cheese', 'spaghetti', 'ground beef'})\\nSUPPORT:\\t0.005332622317024397\", \"RULE:\\tfrozenset({'nan', 'green tea', 'tomatoes', 'ground beef'})\\nSUPPORT:\\t0.0030662578322890282\", \"RULE:\\tfrozenset({'nan', 'herb & pepper', 'milk', 'ground beef'})\\nSUPPORT:\\t0.0035995200639914677\", \"RULE:\\tfrozenset({'nan', 'mineral water', 'herb & pepper', 'ground beef'})\\nSUPPORT:\\t0.006665777896280496\", \"RULE:\\tfrozenset({'nan', 'spaghetti', 'herb & pepper', 'ground beef'})\\nSUPPORT:\\t0.006399146780429276\", \"RULE:\\tfrozenset({'nan', 'olive oil', 'milk', 'ground beef'})\\nSUPPORT:\\t0.004932675643247567\", \"RULE:\\tfrozenset({'nan', 'soup', 'milk', 'ground beef'})\\nSUPPORT:\\t0.003999466737768298\", \"RULE:\\tfrozenset({'olive oil', 'mineral water', 'spaghetti', 'ground beef'})\\nSUPPORT:\\t0.0030662578322890282\", \"RULE:\\tfrozenset({'mineral water', 'spaghetti', 'tomatoes', 'ground beef'})\\nSUPPORT:\\t0.0030662578322890282\", \"RULE:\\tfrozenset({'nan', 'pepper', 'spaghetti', 'ground beef'})\\nSUPPORT:\\t0.003332888948140248\", \"RULE:\\tfrozenset({'nan', 'spaghetti', 'shrimp', 'ground beef'})\\nSUPPORT:\\t0.005999200106652446\", \"RULE:\\tfrozenset({'nan', 'spaghetti', 'tomato sauce', 'ground beef'})\\nSUPPORT:\\t0.0030662578322890282\", \"RULE:\\tfrozenset({'olive oil', 'mineral water', 'spaghetti', 'milk'})\\nSUPPORT:\\t0.003332888948140248\", \"RULE:\\tfrozenset({'mineral water', 'spaghetti', 'tomatoes', 'milk'})\\nSUPPORT:\\t0.003332888948140248\", \"RULE:\\tfrozenset({'nan', 'olive oil', 'shrimp', 'milk'})\\nSUPPORT:\\t0.003199573390214638\", \"RULE:\\tfrozenset({'nan', 'olive oil', 'soup', 'milk'})\\nSUPPORT:\\t0.0035995200639914677\", \"RULE:\\tfrozenset({'nan', 'olive oil', 'spaghetti', 'milk'})\\nSUPPORT:\\t0.007199040127982935\", \"RULE:\\tfrozenset({'nan', 'soup', 'tomatoes', 'milk'})\\nSUPPORT:\\t0.0030662578322890282\", \"RULE:\\tfrozenset({'nan', 'whole wheat pasta', 'spaghetti', 'milk'})\\nSUPPORT:\\t0.003999466737768298\", \"RULE:\\tfrozenset({'nan', 'olive oil', 'mineral water', 'soup'})\\nSUPPORT:\\t0.005199306759098787\", \"RULE:\\tfrozenset({'nan', 'olive oil', 'mineral water', 'whole wheat pasta'})\\nSUPPORT:\\t0.0038661511798426876\", \"RULE:\\tfrozenset({'nan', 'olive oil', 'spaghetti', 'pancakes'})\\nSUPPORT:\\t0.005065991201173177\", \"RULE:\\tfrozenset({'nan', 'olive oil', 'spaghetti', 'tomatoes'})\\nSUPPORT:\\t0.004399413411545127\", \"RULE:\\tfrozenset({'nan', 'spaghetti', 'tomatoes', 'whole wheat rice'})\\nSUPPORT:\\t0.0030662578322890282\", \"RULE:\\tfrozenset({'chocolate', 'mineral water', 'nan', 'eggs', 'ground beef'})\\nSUPPORT:\\t0.003999466737768298\", \"RULE:\\tfrozenset({'chocolate', 'frozen vegetables', 'mineral water', 'nan', 'ground beef'})\\nSUPPORT:\\t0.003332888948140248\", \"RULE:\\tfrozenset({'chocolate', 'frozen vegetables', 'nan', 'spaghetti', 'ground beef'})\\nSUPPORT:\\t0.0030662578322890282\", \"RULE:\\tfrozenset({'chocolate', 'frozen vegetables', 'mineral water', 'nan', 'milk'})\\nSUPPORT:\\t0.003999466737768298\", \"RULE:\\tfrozenset({'chocolate', 'frozen vegetables', 'nan', 'milk', 'spaghetti'})\\nSUPPORT:\\t0.0034662045060658577\", \"RULE:\\tfrozenset({'chocolate', 'frozen vegetables', 'mineral water', 'nan', 'shrimp'})\\nSUPPORT:\\t0.003199573390214638\", \"RULE:\\tfrozenset({'chocolate', 'mineral water', 'nan', 'olive oil', 'spaghetti'})\\nSUPPORT:\\t0.0038661511798426876\", \"RULE:\\tfrozenset({'chocolate', 'mineral water', 'nan', 'spaghetti', 'shrimp'})\\nSUPPORT:\\t0.0034662045060658577\", \"RULE:\\tfrozenset({'frozen vegetables', 'mineral water', 'nan', 'milk', 'eggs'})\\nSUPPORT:\\t0.0037328356219170776\", \"RULE:\\tfrozenset({'mineral water', 'nan', 'milk', 'spaghetti', 'frozen smoothie'})\\nSUPPORT:\\t0.003199573390214638\", \"RULE:\\tfrozenset({'frozen vegetables', 'mineral water', 'nan', 'milk', 'ground beef'})\\nSUPPORT:\\t0.0037328356219170776\", \"RULE:\\tfrozenset({'frozen vegetables', 'nan', 'milk', 'spaghetti', 'ground beef'})\\nSUPPORT:\\t0.0030662578322890282\", \"RULE:\\tfrozenset({'frozen vegetables', 'mineral water', 'nan', 'spaghetti', 'ground beef'})\\nSUPPORT:\\t0.004399413411545127\", \"RULE:\\tfrozenset({'frozen vegetables', 'mineral water', 'nan', 'milk', 'olive oil'})\\nSUPPORT:\\t0.003332888948140248\", \"RULE:\\tfrozenset({'frozen vegetables', 'mineral water', 'nan', 'milk', 'soup'})\\nSUPPORT:\\t0.0030662578322890282\", \"RULE:\\tfrozenset({'frozen vegetables', 'mineral water', 'nan', 'milk', 'spaghetti'})\\nSUPPORT:\\t0.004532728969470737\", \"RULE:\\tfrozenset({'frozen vegetables', 'mineral water', 'nan', 'spaghetti', 'shrimp'})\\nSUPPORT:\\t0.003332888948140248\", \"RULE:\\tfrozenset({'frozen vegetables', 'mineral water', 'nan', 'tomatoes', 'spaghetti'})\\nSUPPORT:\\t0.0030662578322890282\", \"RULE:\\tfrozenset({'mineral water', 'nan', 'olive oil', 'spaghetti', 'ground beef'})\\nSUPPORT:\\t0.0030662578322890282\", \"RULE:\\tfrozenset({'mineral water', 'nan', 'tomatoes', 'spaghetti', 'ground beef'})\\nSUPPORT:\\t0.0030662578322890282\", \"RULE:\\tfrozenset({'mineral water', 'nan', 'milk', 'olive oil', 'spaghetti'})\\nSUPPORT:\\t0.003332888948140248\", \"RULE:\\tfrozenset({'mineral water', 'nan', 'tomatoes', 'milk', 'spaghetti'})\\nSUPPORT:\\t0.003332888948140248\"]\n"
     ]
    }
   ],
   "source": [
    "results = list(rules)\n",
    "results_list = []\n",
    "for i in range(0, len(results)):\n",
    "    results_list.append('RULE:\\t' + str(results[i][0]) + '\\nSUPPORT:\\t' + str(results[i][1]))\n",
    "print (results_list) "
   ]
  },
  {
   "cell_type": "markdown",
   "metadata": {},
   "source": [
    "It’s messy and almost incomprehensible. But if you run it in Spyder (another useful data science package included in Anaconda installation), the result will look a bit neater:"
   ]
  },
  {
   "cell_type": "markdown",
   "metadata": {},
   "source": [
    "![jupyter](./spyder.png)"
   ]
  },
  {
   "cell_type": "markdown",
   "metadata": {},
   "source": [
    "Notice that there are different itemsets with their corresponding “Support.” The higher the Support, we can somehow say that the higher the relatedness. For instance, light cream and chicken often go together because people might be using the two to cook something. Another example is in the itemset with an index of 5 (tomato sauce and ground beef). These two items might always go together in the grocery bag because they’re also used to prepare a meal or a recipe. \n",
    "\n",
    "This is only an introduction of Association Rule Learning. The goal here was to explore the potential applications of it to real-world scenarios such as market basket optimization. There are other more sophisticated ways to do this. But in general, it’s about determining the level of relatedness among the items and then evaluating that if it’s useful or good enough. "
   ]
  },
  {
   "cell_type": "code",
   "execution_count": null,
   "metadata": {},
   "outputs": [],
   "source": []
  }
 ],
 "metadata": {
  "kernelspec": {
   "display_name": "Python 3",
   "language": "python",
   "name": "python3"
  },
  "language_info": {
   "codemirror_mode": {
    "name": "ipython",
    "version": 3
   },
   "file_extension": ".py",
   "mimetype": "text/x-python",
   "name": "python",
   "nbconvert_exporter": "python",
   "pygments_lexer": "ipython3",
   "version": "3.6.5"
  }
 },
 "nbformat": 4,
 "nbformat_minor": 2
}
